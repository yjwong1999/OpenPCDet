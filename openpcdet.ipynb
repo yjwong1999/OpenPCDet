{
  "nbformat": 4,
  "nbformat_minor": 0,
  "metadata": {
    "colab": {
      "provenance": [],
      "collapsed_sections": [
        "f62vmoDXo9Ep",
        "W0DK_5ZZz1zS"
      ],
      "gpuType": "T4"
    },
    "kernelspec": {
      "name": "python3",
      "display_name": "Python 3"
    },
    "language_info": {
      "name": "python"
    },
    "accelerator": "GPU",
    "gpuClass": "standard"
  },
  "cells": [
    {
      "cell_type": "markdown",
      "source": [
        "# OpenPCDet"
      ],
      "metadata": {
        "id": "cSahTlSko06k"
      }
    },
    {
      "cell_type": "markdown",
      "source": [
        "### Get ready the environment and dependencies"
      ],
      "metadata": {
        "id": "f62vmoDXo9Ep"
      }
    },
    {
      "cell_type": "code",
      "execution_count": null,
      "metadata": {
        "id": "c2kZ6aJjniRr"
      },
      "outputs": [],
      "source": [
        "# check CUDA version (11.8 in this case)\n",
        "!nvcc --version"
      ]
    },
    {
      "cell_type": "code",
      "source": [
        "# check torch cuda version, make sure same as the version provided by nvcc\n",
        "import torch\n",
        "torch.__version__"
      ],
      "metadata": {
        "id": "4noYvPDwpwx7"
      },
      "execution_count": null,
      "outputs": []
    },
    {
      "cell_type": "code",
      "source": [
        "# install the spconv with the same version as pytorch and nvcc\n",
        "!pip install spconv-cu118"
      ],
      "metadata": {
        "id": "1xV0hebqpynS"
      },
      "execution_count": null,
      "outputs": []
    },
    {
      "cell_type": "code",
      "source": [
        "# setup OpenPCDet\n",
        "!git clone https://github.com/yjwong1999/OpenPCDet.git"
      ],
      "metadata": {
        "id": "9uxJ8xEup0mc"
      },
      "execution_count": null,
      "outputs": []
    },
    {
      "cell_type": "code",
      "source": [
        "%cd OpenPCDet"
      ],
      "metadata": {
        "id": "RLhbPPegqa_1"
      },
      "execution_count": null,
      "outputs": []
    },
    {
      "cell_type": "code",
      "source": [
        "!python setup.py develop"
      ],
      "metadata": {
        "id": "BAY28D2_qeEe"
      },
      "execution_count": null,
      "outputs": []
    },
    {
      "cell_type": "code",
      "source": [
        "from IPython.display import clear_output\n",
        "# !pip install pandas\n",
        "!pip install plyfile\n",
        "# !pip install opencv-python==4.7.0.72\n",
        "!pip install av2\n",
        "!pip install kornia\n",
        "!pip install mayavi\n",
        "!pip install PyQt5\n",
        "\n",
        "clear_output()"
      ],
      "metadata": {
        "id": "IBvJaYgVqhLq"
      },
      "execution_count": null,
      "outputs": []
    },
    {
      "cell_type": "markdown",
      "source": [
        "### Get data"
      ],
      "metadata": {
        "id": "W0DK_5ZZz1zS"
      }
    },
    {
      "cell_type": "code",
      "source": [
        "import os\n",
        "os.mkdir('data_raw')"
      ],
      "metadata": {
        "id": "1473G3zY0CYp"
      },
      "execution_count": null,
      "outputs": []
    },
    {
      "cell_type": "code",
      "source": [
        "%cd data_raw\n",
        "!wget --load-cookies /tmp/cookies.txt \"https://docs.google.com/uc?export=download&confirm=$(wget --quiet --save-cookies /tmp/cookies.txt --keep-session-cookies --no-check-certificate 'https://docs.google.com/uc?export=download&id=10wYymKKERu2kLwxqS3GuR4PtJ1wifc1r' -O- | sed -rn 's/.*confirm=([0-9A-Za-z_]+).*/\\1\\n/p')&id=10wYymKKERu2kLwxqS3GuR4PtJ1wifc1r\" -O mimos_dataset.zip && rm -rf /tmp/cookies.txt\n",
        "!unzip mimos_dataset.zip\n",
        "%cd ../\n",
        "\n",
        "clear_output()"
      ],
      "metadata": {
        "id": "HAEWU-hnz7B1"
      },
      "execution_count": null,
      "outputs": []
    },
    {
      "cell_type": "code",
      "source": [
        "%cd data\n",
        "!wget --no-check-certificate 'https://docs.google.com/uc?export=download&id=1561e3JyQnqLombPygY-plVdkhzxM9amv' -O data.zip \n",
        "!unzip data.zip\n",
        "%cd ../\n",
        "\n",
        "clear_output()"
      ],
      "metadata": {
        "id": "HtwQneRx2W-S"
      },
      "execution_count": null,
      "outputs": []
    },
    {
      "cell_type": "code",
      "source": [
        "!python -m pcdet.datasets.custom.custom_dataset create_custom_infos tools/cfgs/dataset_configs/custom_dataset.yaml"
      ],
      "metadata": {
        "id": "36_o4ZfA7EgM"
      },
      "execution_count": null,
      "outputs": []
    },
    {
      "cell_type": "markdown",
      "source": [
        "### Training"
      ],
      "metadata": {
        "id": "jfap3GzB0vpm"
      }
    },
    {
      "cell_type": "code",
      "source": [
        "%cd OpenPCDet"
      ],
      "metadata": {
        "id": "0q305NeLC6ig"
      },
      "execution_count": null,
      "outputs": []
    },
    {
      "cell_type": "code",
      "source": [
        "import shutil\n",
        "\n",
        "shutil.rmtree(\"/content/OpenPCDet/output/custom_models/pointrcnn\")"
      ],
      "metadata": {
        "id": "-0UiQ53EDJVF"
      },
      "execution_count": null,
      "outputs": []
    },
    {
      "cell_type": "code",
      "source": [
        "%cd tools \n",
        "!python train.py --cfg_file cfgs/custom_models/pointrcnn.yaml --batch_size 2 --workers 1 --epochs 200\n",
        "%cd ../"
      ],
      "metadata": {
        "id": "0rk4wzYc9SsL"
      },
      "execution_count": null,
      "outputs": []
    },
    {
      "cell_type": "code",
      "source": [],
      "metadata": {
        "id": "LUuUdOQnbLmt"
      },
      "execution_count": null,
      "outputs": []
    }
  ]
}