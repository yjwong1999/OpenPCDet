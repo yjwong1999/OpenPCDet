{
  "nbformat": 4,
  "nbformat_minor": 0,
  "metadata": {
    "colab": {
      "provenance": [],
      "collapsed_sections": [
        "f62vmoDXo9Ep",
        "W0DK_5ZZz1zS"
      ],
      "gpuType": "T4"
    },
    "kernelspec": {
      "name": "python3",
      "display_name": "Python 3"
    },
    "language_info": {
      "name": "python"
    },
    "accelerator": "GPU",
    "gpuClass": "standard"
  },
  "cells": [
    {
      "cell_type": "markdown",
      "source": [
        "# OpenPCDet"
      ],
      "metadata": {
        "id": "cSahTlSko06k"
      }
    },
    {
      "cell_type": "markdown",
      "source": [
        "### Get ready the environment and dependencies"
      ],
      "metadata": {
        "id": "f62vmoDXo9Ep"
      }
    },
    {
      "cell_type": "code",
      "execution_count": 1,
      "metadata": {
        "id": "c2kZ6aJjniRr",
        "colab": {
          "base_uri": "https://localhost:8080/"
        },
        "outputId": "70249f9d-4231-4aaa-ba6d-2ea682ed78e7"
      },
      "outputs": [
        {
          "output_type": "stream",
          "name": "stdout",
          "text": [
            "nvcc: NVIDIA (R) Cuda compiler driver\n",
            "Copyright (c) 2005-2022 NVIDIA Corporation\n",
            "Built on Wed_Sep_21_10:33:58_PDT_2022\n",
            "Cuda compilation tools, release 11.8, V11.8.89\n",
            "Build cuda_11.8.r11.8/compiler.31833905_0\n"
          ]
        }
      ],
      "source": [
        "# check CUDA version (11.8 in this case)\n",
        "!nvcc --version"
      ]
    },
    {
      "cell_type": "code",
      "source": [
        "# check torch cuda version, make sure same as the version provided by nvcc\n",
        "import torch\n",
        "torch.__version__"
      ],
      "metadata": {
        "id": "4noYvPDwpwx7",
        "colab": {
          "base_uri": "https://localhost:8080/",
          "height": 35
        },
        "outputId": "b2c4b221-4648-479d-f0c6-8f08c3439055"
      },
      "execution_count": 2,
      "outputs": [
        {
          "output_type": "execute_result",
          "data": {
            "text/plain": [
              "'2.0.0+cu118'"
            ],
            "application/vnd.google.colaboratory.intrinsic+json": {
              "type": "string"
            }
          },
          "metadata": {},
          "execution_count": 2
        }
      ]
    },
    {
      "cell_type": "code",
      "source": [
        "# install the spconv with the same version as pytorch and nvcc\n",
        "!pip install spconv-cu118"
      ],
      "metadata": {
        "id": "1xV0hebqpynS",
        "colab": {
          "base_uri": "https://localhost:8080/"
        },
        "outputId": "5af3853b-6fe6-464d-fd91-109745dd1573"
      },
      "execution_count": 3,
      "outputs": [
        {
          "output_type": "stream",
          "name": "stdout",
          "text": [
            "Looking in indexes: https://pypi.org/simple, https://us-python.pkg.dev/colab-wheels/public/simple/\n",
            "Collecting spconv-cu118\n",
            "  Downloading spconv_cu118-2.3.6-cp310-cp310-manylinux_2_17_x86_64.manylinux2014_x86_64.whl (75.9 MB)\n",
            "\u001b[2K     \u001b[90m━━━━━━━━━━━━━━━━━━━━━━━━━━━━━━━━━━━━━━━━\u001b[0m \u001b[32m75.9/75.9 MB\u001b[0m \u001b[31m3.2 MB/s\u001b[0m eta \u001b[36m0:00:00\u001b[0m\n",
            "\u001b[?25hCollecting fire\n",
            "  Downloading fire-0.5.0.tar.gz (88 kB)\n",
            "\u001b[2K     \u001b[90m━━━━━━━━━━━━━━━━━━━━━━━━━━━━━━━━━━━━━━━━\u001b[0m \u001b[32m88.3/88.3 kB\u001b[0m \u001b[31m8.0 MB/s\u001b[0m eta \u001b[36m0:00:00\u001b[0m\n",
            "\u001b[?25h  Preparing metadata (setup.py) ... \u001b[?25l\u001b[?25hdone\n",
            "Requirement already satisfied: numpy in /usr/local/lib/python3.10/dist-packages (from spconv-cu118) (1.22.4)\n",
            "Collecting cumm-cu118<0.5.0,>=0.4.5\n",
            "  Downloading cumm_cu118-0.4.9-cp310-cp310-manylinux_2_17_x86_64.manylinux2014_x86_64.whl (25.5 MB)\n",
            "\u001b[2K     \u001b[90m━━━━━━━━━━━━━━━━━━━━━━━━━━━━━━━━━━━━━━━━\u001b[0m \u001b[32m25.5/25.5 MB\u001b[0m \u001b[31m2.9 MB/s\u001b[0m eta \u001b[36m0:00:00\u001b[0m\n",
            "\u001b[?25hCollecting pccm>=0.4.0\n",
            "  Downloading pccm-0.4.7-py3-none-any.whl (71 kB)\n",
            "\u001b[2K     \u001b[90m━━━━━━━━━━━━━━━━━━━━━━━━━━━━━━━━━━━━━━━━\u001b[0m \u001b[32m71.2/71.2 kB\u001b[0m \u001b[31m8.1 MB/s\u001b[0m eta \u001b[36m0:00:00\u001b[0m\n",
            "\u001b[?25hCollecting pybind11>=2.6.0\n",
            "  Downloading pybind11-2.10.4-py3-none-any.whl (222 kB)\n",
            "\u001b[2K     \u001b[90m━━━━━━━━━━━━━━━━━━━━━━━━━━━━━━━━━━━━━━\u001b[0m \u001b[32m222.3/222.3 kB\u001b[0m \u001b[31m17.2 MB/s\u001b[0m eta \u001b[36m0:00:00\u001b[0m\n",
            "\u001b[?25hCollecting ccimport>=0.4.0\n",
            "  Downloading ccimport-0.4.2-py3-none-any.whl (27 kB)\n",
            "Requirement already satisfied: requests in /usr/local/lib/python3.10/dist-packages (from ccimport>=0.4.0->spconv-cu118) (2.27.1)\n",
            "Collecting ninja\n",
            "  Downloading ninja-1.11.1-py2.py3-none-manylinux_2_12_x86_64.manylinux2010_x86_64.whl (145 kB)\n",
            "\u001b[2K     \u001b[90m━━━━━━━━━━━━━━━━━━━━━━━━━━━━━━━━━━━━━━\u001b[0m \u001b[32m146.0/146.0 kB\u001b[0m \u001b[31m15.4 MB/s\u001b[0m eta \u001b[36m0:00:00\u001b[0m\n",
            "\u001b[?25hCollecting lark>=1.0.0\n",
            "  Downloading lark-1.1.5-py3-none-any.whl (107 kB)\n",
            "\u001b[2K     \u001b[90m━━━━━━━━━━━━━━━━━━━━━━━━━━━━━━━━━━━━━━\u001b[0m \u001b[32m108.0/108.0 kB\u001b[0m \u001b[31m11.1 MB/s\u001b[0m eta \u001b[36m0:00:00\u001b[0m\n",
            "\u001b[?25hCollecting portalocker>=2.3.2\n",
            "  Downloading portalocker-2.7.0-py2.py3-none-any.whl (15 kB)\n",
            "Requirement already satisfied: six in /usr/local/lib/python3.10/dist-packages (from fire->spconv-cu118) (1.16.0)\n",
            "Requirement already satisfied: termcolor in /usr/local/lib/python3.10/dist-packages (from fire->spconv-cu118) (2.3.0)\n",
            "Requirement already satisfied: charset-normalizer~=2.0.0 in /usr/local/lib/python3.10/dist-packages (from requests->ccimport>=0.4.0->spconv-cu118) (2.0.12)\n",
            "Requirement already satisfied: urllib3<1.27,>=1.21.1 in /usr/local/lib/python3.10/dist-packages (from requests->ccimport>=0.4.0->spconv-cu118) (1.26.15)\n",
            "Requirement already satisfied: certifi>=2017.4.17 in /usr/local/lib/python3.10/dist-packages (from requests->ccimport>=0.4.0->spconv-cu118) (2022.12.7)\n",
            "Requirement already satisfied: idna<4,>=2.5 in /usr/local/lib/python3.10/dist-packages (from requests->ccimport>=0.4.0->spconv-cu118) (3.4)\n",
            "Building wheels for collected packages: fire\n",
            "  Building wheel for fire (setup.py) ... \u001b[?25l\u001b[?25hdone\n",
            "  Created wheel for fire: filename=fire-0.5.0-py2.py3-none-any.whl size=116952 sha256=278addfb0b09e5ca3d8af66a271a612f6e6d48319219c3db65423fc189d35140\n",
            "  Stored in directory: /root/.cache/pip/wheels/90/d4/f7/9404e5db0116bd4d43e5666eaa3e70ab53723e1e3ea40c9a95\n",
            "Successfully built fire\n",
            "Installing collected packages: ninja, lark, pybind11, portalocker, fire, ccimport, pccm, cumm-cu118, spconv-cu118\n",
            "Successfully installed ccimport-0.4.2 cumm-cu118-0.4.9 fire-0.5.0 lark-1.1.5 ninja-1.11.1 pccm-0.4.7 portalocker-2.7.0 pybind11-2.10.4 spconv-cu118-2.3.6\n"
          ]
        }
      ]
    },
    {
      "cell_type": "code",
      "source": [
        "# setup OpenPCDet\n",
        "!git clone https://github.com/yjwong1999/OpenPCDet.git"
      ],
      "metadata": {
        "id": "9uxJ8xEup0mc",
        "colab": {
          "base_uri": "https://localhost:8080/"
        },
        "outputId": "3f42f41f-9a58-4303-a382-35f184683f6f"
      },
      "execution_count": 4,
      "outputs": [
        {
          "output_type": "stream",
          "name": "stdout",
          "text": [
            "fatal: destination path 'OpenPCDet' already exists and is not an empty directory.\n"
          ]
        }
      ]
    },
    {
      "cell_type": "code",
      "source": [
        "%cd OpenPCDet"
      ],
      "metadata": {
        "id": "RLhbPPegqa_1",
        "colab": {
          "base_uri": "https://localhost:8080/"
        },
        "outputId": "d298b65f-bf1a-40b2-cd79-b37d864a3b4b"
      },
      "execution_count": 5,
      "outputs": [
        {
          "output_type": "stream",
          "name": "stdout",
          "text": [
            "/content/OpenPCDet\n"
          ]
        }
      ]
    },
    {
      "cell_type": "code",
      "source": [
        "!python setup.py develop"
      ],
      "metadata": {
        "id": "BAY28D2_qeEe",
        "colab": {
          "base_uri": "https://localhost:8080/"
        },
        "outputId": "91b95692-ec86-484f-e528-5ac67a373885"
      },
      "execution_count": 6,
      "outputs": [
        {
          "output_type": "stream",
          "name": "stdout",
          "text": [
            "No CUDA runtime is found, using CUDA_HOME='/usr/local/cuda'\n",
            "running develop\n",
            "/usr/local/lib/python3.10/dist-packages/setuptools/command/develop.py:40: EasyInstallDeprecationWarning: easy_install command is deprecated.\n",
            "!!\n",
            "\n",
            "        ********************************************************************************\n",
            "        Please avoid running ``setup.py`` and ``easy_install``.\n",
            "        Instead, use pypa/build, pypa/installer, pypa/build or\n",
            "        other standards-based tools.\n",
            "\n",
            "        See https://github.com/pypa/setuptools/issues/917 for details.\n",
            "        ********************************************************************************\n",
            "\n",
            "!!\n",
            "  easy_install.initialize_options(self)\n",
            "/usr/lib/python3.10/distutils/cmd.py:62: SetuptoolsDeprecationWarning: setup.py install is deprecated.\n",
            "!!\n",
            "\n",
            "        ********************************************************************************\n",
            "        Please avoid running ``setup.py`` directly.\n",
            "        Instead, use pypa/build, pypa/installer, pypa/build or\n",
            "        other standards-based tools.\n",
            "\n",
            "        See https://blog.ganssle.io/articles/2021/10/setup-py-deprecated.html for details.\n",
            "        ********************************************************************************\n",
            "\n",
            "!!\n",
            "  self.initialize_options()\n",
            "running egg_info\n",
            "creating pcdet.egg-info\n",
            "writing pcdet.egg-info/PKG-INFO\n",
            "writing dependency_links to pcdet.egg-info/dependency_links.txt\n",
            "writing requirements to pcdet.egg-info/requires.txt\n",
            "writing top-level names to pcdet.egg-info/top_level.txt\n",
            "writing manifest file 'pcdet.egg-info/SOURCES.txt'\n",
            "reading manifest file 'pcdet.egg-info/SOURCES.txt'\n",
            "adding license file 'LICENSE'\n",
            "writing manifest file 'pcdet.egg-info/SOURCES.txt'\n",
            "running build_ext\n",
            "/usr/local/lib/python3.10/dist-packages/torch/utils/cpp_extension.py:398: UserWarning: There are no x86_64-linux-gnu-g++ version bounds defined for CUDA version 11.8\n",
            "  warnings.warn(f'There are no {compiler_name} version bounds defined for CUDA version {cuda_str_version}')\n",
            "building 'pcdet.ops.iou3d_nms.iou3d_nms_cuda' extension\n",
            "creating /content/OpenPCDet/build\n",
            "creating /content/OpenPCDet/build/temp.linux-x86_64-3.10\n",
            "creating /content/OpenPCDet/build/temp.linux-x86_64-3.10/pcdet\n",
            "creating /content/OpenPCDet/build/temp.linux-x86_64-3.10/pcdet/ops\n",
            "creating /content/OpenPCDet/build/temp.linux-x86_64-3.10/pcdet/ops/iou3d_nms\n",
            "creating /content/OpenPCDet/build/temp.linux-x86_64-3.10/pcdet/ops/iou3d_nms/src\n",
            "Traceback (most recent call last):\n",
            "  File \"/content/OpenPCDet/setup.py\", line 34, in <module>\n",
            "    setup(\n",
            "  File \"/usr/local/lib/python3.10/dist-packages/setuptools/__init__.py\", line 107, in setup\n",
            "    return distutils.core.setup(**attrs)\n",
            "  File \"/usr/lib/python3.10/distutils/core.py\", line 148, in setup\n",
            "    dist.run_commands()\n",
            "  File \"/usr/lib/python3.10/distutils/dist.py\", line 966, in run_commands\n",
            "    self.run_command(cmd)\n",
            "  File \"/usr/local/lib/python3.10/dist-packages/setuptools/dist.py\", line 1244, in run_command\n",
            "    super().run_command(command)\n",
            "  File \"/usr/lib/python3.10/distutils/dist.py\", line 985, in run_command\n",
            "    cmd_obj.run()\n",
            "  File \"/usr/local/lib/python3.10/dist-packages/setuptools/command/develop.py\", line 34, in run\n",
            "    self.install_for_development()\n",
            "  File \"/usr/local/lib/python3.10/dist-packages/setuptools/command/develop.py\", line 115, in install_for_development\n",
            "    self.run_command('build_ext')\n",
            "  File \"/usr/lib/python3.10/distutils/cmd.py\", line 313, in run_command\n",
            "    self.distribution.run_command(command)\n",
            "  File \"/usr/local/lib/python3.10/dist-packages/setuptools/dist.py\", line 1244, in run_command\n",
            "    super().run_command(command)\n",
            "  File \"/usr/lib/python3.10/distutils/dist.py\", line 985, in run_command\n",
            "    cmd_obj.run()\n",
            "  File \"/usr/local/lib/python3.10/dist-packages/setuptools/command/build_ext.py\", line 84, in run\n",
            "    _build_ext.run(self)\n",
            "  File \"/usr/local/lib/python3.10/dist-packages/Cython/Distutils/old_build_ext.py\", line 186, in run\n",
            "    _build_ext.build_ext.run(self)\n",
            "  File \"/usr/lib/python3.10/distutils/command/build_ext.py\", line 340, in run\n",
            "    self.build_extensions()\n",
            "  File \"/usr/local/lib/python3.10/dist-packages/torch/utils/cpp_extension.py\", line 843, in build_extensions\n",
            "    build_ext.build_extensions(self)\n",
            "  File \"/usr/local/lib/python3.10/dist-packages/Cython/Distutils/old_build_ext.py\", line 195, in build_extensions\n",
            "    _build_ext.build_ext.build_extensions(self)\n",
            "  File \"/usr/lib/python3.10/distutils/command/build_ext.py\", line 449, in build_extensions\n",
            "    self._build_extensions_serial()\n",
            "  File \"/usr/lib/python3.10/distutils/command/build_ext.py\", line 474, in _build_extensions_serial\n",
            "    self.build_extension(ext)\n",
            "  File \"/usr/local/lib/python3.10/dist-packages/setuptools/command/build_ext.py\", line 246, in build_extension\n",
            "    _build_ext.build_extension(self, ext)\n",
            "  File \"/usr/lib/python3.10/distutils/command/build_ext.py\", line 529, in build_extension\n",
            "    objects = self.compiler.compile(sources,\n",
            "  File \"/usr/local/lib/python3.10/dist-packages/torch/utils/cpp_extension.py\", line 649, in unix_wrap_ninja_compile\n",
            "    cuda_post_cflags = unix_cuda_flags(cuda_post_cflags)\n",
            "  File \"/usr/local/lib/python3.10/dist-packages/torch/utils/cpp_extension.py\", line 548, in unix_cuda_flags\n",
            "    cflags + _get_cuda_arch_flags(cflags))\n",
            "  File \"/usr/local/lib/python3.10/dist-packages/torch/utils/cpp_extension.py\", line 1773, in _get_cuda_arch_flags\n",
            "    arch_list[-1] += '+PTX'\n",
            "IndexError: list index out of range\n"
          ]
        }
      ]
    },
    {
      "cell_type": "code",
      "source": [
        "from IPython.display import clear_output\n",
        "# !pip install pandas\n",
        "!pip install plyfile\n",
        "# !pip install opencv-python==4.7.0.72\n",
        "!pip install av2\n",
        "!pip install kornia\n",
        "!pip install mayavi\n",
        "!pip install PyQt5\n",
        "\n",
        "clear_output()"
      ],
      "metadata": {
        "id": "IBvJaYgVqhLq"
      },
      "execution_count": 7,
      "outputs": []
    },
    {
      "cell_type": "markdown",
      "source": [
        "### Get data"
      ],
      "metadata": {
        "id": "W0DK_5ZZz1zS"
      }
    },
    {
      "cell_type": "code",
      "source": [
        "import os\n",
        "os.mkdir('data_raw')"
      ],
      "metadata": {
        "id": "1473G3zY0CYp"
      },
      "execution_count": 8,
      "outputs": []
    },
    {
      "cell_type": "code",
      "source": [
        "%cd data_raw\n",
        "!wget --load-cookies /tmp/cookies.txt \"https://docs.google.com/uc?export=download&confirm=$(wget --quiet --save-cookies /tmp/cookies.txt --keep-session-cookies --no-check-certificate 'https://docs.google.com/uc?export=download&id=10wYymKKERu2kLwxqS3GuR4PtJ1wifc1r' -O- | sed -rn 's/.*confirm=([0-9A-Za-z_]+).*/\\1\\n/p')&id=10wYymKKERu2kLwxqS3GuR4PtJ1wifc1r\" -O mimos_dataset.zip && rm -rf /tmp/cookies.txt\n",
        "!unzip mimos_dataset.zip\n",
        "%cd ../\n",
        "\n",
        "clear_output()"
      ],
      "metadata": {
        "id": "HAEWU-hnz7B1"
      },
      "execution_count": 9,
      "outputs": []
    },
    {
      "cell_type": "code",
      "source": [
        "%cd data\n",
        "!wget --no-check-certificate 'https://docs.google.com/uc?export=download&id=1561e3JyQnqLombPygY-plVdkhzxM9amv' -O data.zip \n",
        "!unzip data.zip\n",
        "%cd ../\n",
        "\n",
        "clear_output()"
      ],
      "metadata": {
        "id": "HtwQneRx2W-S"
      },
      "execution_count": 10,
      "outputs": []
    },
    {
      "cell_type": "code",
      "source": [
        "!python -m pcdet.datasets.custom.custom_dataset create_custom_infos tools/cfgs/dataset_configs/custom_dataset.yaml"
      ],
      "metadata": {
        "id": "36_o4ZfA7EgM",
        "colab": {
          "base_uri": "https://localhost:8080/"
        },
        "outputId": "8e7a2fd2-a57d-4426-fdf6-201f0e2334b5"
      },
      "execution_count": 11,
      "outputs": [
        {
          "output_type": "stream",
          "name": "stdout",
          "text": [
            "Traceback (most recent call last):\n",
            "  File \"/usr/lib/python3.10/runpy.py\", line 187, in _run_module_as_main\n",
            "    mod_name, mod_spec, code = _get_module_details(mod_name, _Error)\n",
            "  File \"/usr/lib/python3.10/runpy.py\", line 110, in _get_module_details\n",
            "    __import__(pkg_name)\n",
            "  File \"/content/OpenPCDet/pcdet/datasets/__init__.py\", line 6, in <module>\n",
            "    from pcdet.utils import common_utils\n",
            "  File \"/content/OpenPCDet/pcdet/utils/common_utils.py\", line 7, in <module>\n",
            "    import SharedArray\n",
            "ModuleNotFoundError: No module named 'SharedArray'\n"
          ]
        }
      ]
    },
    {
      "cell_type": "markdown",
      "source": [
        "### Training"
      ],
      "metadata": {
        "id": "jfap3GzB0vpm"
      }
    },
    {
      "cell_type": "code",
      "source": [
        "%cd OpenPCDet"
      ],
      "metadata": {
        "id": "0q305NeLC6ig",
        "colab": {
          "base_uri": "https://localhost:8080/"
        },
        "outputId": "fb316a42-531d-4f63-9cfc-e5e7b7413921"
      },
      "execution_count": 12,
      "outputs": [
        {
          "output_type": "stream",
          "name": "stdout",
          "text": [
            "[Errno 2] No such file or directory: 'OpenPCDet'\n",
            "/content/OpenPCDet\n"
          ]
        }
      ]
    },
    {
      "cell_type": "code",
      "source": [
        "import shutil\n",
        "\n",
        "shutil.rmtree(\"/content/OpenPCDet/output/custom_models/pointrcnn\")"
      ],
      "metadata": {
        "id": "-0UiQ53EDJVF",
        "colab": {
          "base_uri": "https://localhost:8080/",
          "height": 348
        },
        "outputId": "93afa014-f87e-41aa-f108-0c802e8ed655"
      },
      "execution_count": 13,
      "outputs": [
        {
          "output_type": "error",
          "ename": "FileNotFoundError",
          "evalue": "ignored",
          "traceback": [
            "\u001b[0;31m---------------------------------------------------------------------------\u001b[0m",
            "\u001b[0;31mFileNotFoundError\u001b[0m                         Traceback (most recent call last)",
            "\u001b[0;32m<ipython-input-13-efba21ac9b92>\u001b[0m in \u001b[0;36m<cell line: 3>\u001b[0;34m()\u001b[0m\n\u001b[1;32m      1\u001b[0m \u001b[0;32mimport\u001b[0m \u001b[0mshutil\u001b[0m\u001b[0;34m\u001b[0m\u001b[0;34m\u001b[0m\u001b[0m\n\u001b[1;32m      2\u001b[0m \u001b[0;34m\u001b[0m\u001b[0m\n\u001b[0;32m----> 3\u001b[0;31m \u001b[0mshutil\u001b[0m\u001b[0;34m.\u001b[0m\u001b[0mrmtree\u001b[0m\u001b[0;34m(\u001b[0m\u001b[0;34m\"/content/OpenPCDet/output/custom_models/pointrcnn\"\u001b[0m\u001b[0;34m)\u001b[0m\u001b[0;34m\u001b[0m\u001b[0;34m\u001b[0m\u001b[0m\n\u001b[0m",
            "\u001b[0;32m/usr/lib/python3.10/shutil.py\u001b[0m in \u001b[0;36mrmtree\u001b[0;34m(path, ignore_errors, onerror)\u001b[0m\n\u001b[1;32m    713\u001b[0m             \u001b[0morig_st\u001b[0m \u001b[0;34m=\u001b[0m \u001b[0mos\u001b[0m\u001b[0;34m.\u001b[0m\u001b[0mlstat\u001b[0m\u001b[0;34m(\u001b[0m\u001b[0mpath\u001b[0m\u001b[0;34m)\u001b[0m\u001b[0;34m\u001b[0m\u001b[0;34m\u001b[0m\u001b[0m\n\u001b[1;32m    714\u001b[0m         \u001b[0;32mexcept\u001b[0m \u001b[0mException\u001b[0m\u001b[0;34m:\u001b[0m\u001b[0;34m\u001b[0m\u001b[0;34m\u001b[0m\u001b[0m\n\u001b[0;32m--> 715\u001b[0;31m             \u001b[0monerror\u001b[0m\u001b[0;34m(\u001b[0m\u001b[0mos\u001b[0m\u001b[0;34m.\u001b[0m\u001b[0mlstat\u001b[0m\u001b[0;34m,\u001b[0m \u001b[0mpath\u001b[0m\u001b[0;34m,\u001b[0m \u001b[0msys\u001b[0m\u001b[0;34m.\u001b[0m\u001b[0mexc_info\u001b[0m\u001b[0;34m(\u001b[0m\u001b[0;34m)\u001b[0m\u001b[0;34m)\u001b[0m\u001b[0;34m\u001b[0m\u001b[0;34m\u001b[0m\u001b[0m\n\u001b[0m\u001b[1;32m    716\u001b[0m             \u001b[0;32mreturn\u001b[0m\u001b[0;34m\u001b[0m\u001b[0;34m\u001b[0m\u001b[0m\n\u001b[1;32m    717\u001b[0m         \u001b[0;32mtry\u001b[0m\u001b[0;34m:\u001b[0m\u001b[0;34m\u001b[0m\u001b[0;34m\u001b[0m\u001b[0m\n",
            "\u001b[0;32m/usr/lib/python3.10/shutil.py\u001b[0m in \u001b[0;36mrmtree\u001b[0;34m(path, ignore_errors, onerror)\u001b[0m\n\u001b[1;32m    711\u001b[0m         \u001b[0;31m# lstat()/open()/fstat() trick.\u001b[0m\u001b[0;34m\u001b[0m\u001b[0;34m\u001b[0m\u001b[0m\n\u001b[1;32m    712\u001b[0m         \u001b[0;32mtry\u001b[0m\u001b[0;34m:\u001b[0m\u001b[0;34m\u001b[0m\u001b[0;34m\u001b[0m\u001b[0m\n\u001b[0;32m--> 713\u001b[0;31m             \u001b[0morig_st\u001b[0m \u001b[0;34m=\u001b[0m \u001b[0mos\u001b[0m\u001b[0;34m.\u001b[0m\u001b[0mlstat\u001b[0m\u001b[0;34m(\u001b[0m\u001b[0mpath\u001b[0m\u001b[0;34m)\u001b[0m\u001b[0;34m\u001b[0m\u001b[0;34m\u001b[0m\u001b[0m\n\u001b[0m\u001b[1;32m    714\u001b[0m         \u001b[0;32mexcept\u001b[0m \u001b[0mException\u001b[0m\u001b[0;34m:\u001b[0m\u001b[0;34m\u001b[0m\u001b[0;34m\u001b[0m\u001b[0m\n\u001b[1;32m    715\u001b[0m             \u001b[0monerror\u001b[0m\u001b[0;34m(\u001b[0m\u001b[0mos\u001b[0m\u001b[0;34m.\u001b[0m\u001b[0mlstat\u001b[0m\u001b[0;34m,\u001b[0m \u001b[0mpath\u001b[0m\u001b[0;34m,\u001b[0m \u001b[0msys\u001b[0m\u001b[0;34m.\u001b[0m\u001b[0mexc_info\u001b[0m\u001b[0;34m(\u001b[0m\u001b[0;34m)\u001b[0m\u001b[0;34m)\u001b[0m\u001b[0;34m\u001b[0m\u001b[0;34m\u001b[0m\u001b[0m\n",
            "\u001b[0;31mFileNotFoundError\u001b[0m: [Errno 2] No such file or directory: '/content/OpenPCDet/output/custom_models/pointrcnn'"
          ]
        }
      ]
    },
    {
      "cell_type": "code",
      "source": [
        "%cd tools \n",
        "!python train.py --cfg_file cfgs/custom_models/pointrcnn.yaml --batch_size 2 --workers 1 --epochs 200\n",
        "%cd ../"
      ],
      "metadata": {
        "id": "0rk4wzYc9SsL",
        "colab": {
          "base_uri": "https://localhost:8080/"
        },
        "outputId": "a82f4e08-3f9c-42f2-c6dd-0cc4996c91da"
      },
      "execution_count": 14,
      "outputs": [
        {
          "output_type": "stream",
          "name": "stdout",
          "text": [
            "/content/OpenPCDet/tools\n",
            "Traceback (most recent call last):\n",
            "  File \"/content/OpenPCDet/tools/train.py\", line 7, in <module>\n",
            "    from test import repeat_eval_ckpt\n",
            "  File \"/content/OpenPCDet/tools/test.py\", line 12, in <module>\n",
            "    from tensorboardX import SummaryWriter\n",
            "ModuleNotFoundError: No module named 'tensorboardX'\n",
            "/content/OpenPCDet\n"
          ]
        }
      ]
    },
    {
      "cell_type": "code",
      "source": [],
      "metadata": {
        "id": "LUuUdOQnbLmt"
      },
      "execution_count": null,
      "outputs": []
    }
  ]
}